{
 "cells": [
  {
   "cell_type": "markdown",
   "metadata": {
    "slideshow": {
     "slide_type": "-"
    }
   },
   "source": [
    "# AWS Console, EC2, CLI and s3 and AMIs"
   ]
  },
  {
   "cell_type": "markdown",
   "metadata": {
    "slideshow": {
     "slide_type": "-"
    }
   },
   "source": [
    "### Objectives\n",
    "- Learn how to spin up an instance, install the AWS CLI and create an s3 bucket\n",
    "- Learn how to shut down your instance, save an image and restart an instance from an AMI"
   ]
  },
  {
   "cell_type": "markdown",
   "metadata": {
    "slideshow": {
     "slide_type": "-"
    }
   },
   "source": [
    "### Jargon, Blah, Jargon\n",
    "\n",
    "- AWS: Amazon Web Services\n",
    "- CLI: Command Line Interface\n",
    "- s3: Object storage on Amazon Web Services\n",
    "- AMI: Amazon Machine Image "
   ]
  },
  {
   "cell_type": "markdown",
   "metadata": {
    "slideshow": {
     "slide_type": "-"
    }
   },
   "source": [
    "### Why do I care?\n",
    "\n",
    "1. If you're learning how to use the Cloud, you will need to learn how to manage cost\n",
    "2. Managing costs means terminating instances and related disk/resources when you don't need them\n",
    "3. How can you spin up instances quickly the next time you need them without reinstalling everything?! FREEZE-DRYING TO THE RESCUE!\n",
    "\n",
    "\n",
    "\n",
    "\n",
    "  "
   ]
  },
  {
   "cell_type": "markdown",
   "metadata": {
    "slideshow": {
     "slide_type": "-"
    }
   },
   "source": [
    "### Prerequisites\n",
    "\n",
    "To follow the steps below, you will need a terminal program, such as iTerm/Terminal on the Mac or Windows bash or Putty on Windows.\n",
    "\n",
    "\n",
    "  "
   ]
  },
  {
   "cell_type": "markdown",
   "metadata": {
    "slideshow": {
     "slide_type": "-"
    }
   },
   "source": [
    "### Logging in to the AWS Console & Creating an EC2 instance\n",
    "\n",
    "Logging in to the AWS Console & Creating an EC2 instance\n",
    "Log in to the https://uwescience.signin.aws.amazon.com/console. Use the IAM Username and Password that was provided to you Account ID/Alias: uwescience\n",
    "\n",
    "Once you are logged on the the console, on the right top hand corner next to your IAM username you will see a region. Please make sure that US-East(Ohio) is selected from the drop down menu. We will be solely using the Ohio region for Oceanhackweek cloud work.\n",
    "\n",
    "Under Build a Solution, select Launch A Virtual Machine\n",
    "\n",
    "**Step 1: Choose an Amazon Machine Image (AMI)**\n",
    "\n",
    "Select Ubuntu Server 16.04 LTS (HVM), SSD Volume Type\n",
    "\n",
    "**Step 2: Choose an Instance Type**\n",
    "\n",
    "Select ‘t2.micro’, click Next: Configure Instance Details\n",
    "\n",
    "**Step 3: Configure Instance Details**\n",
    "\n",
    "The only thing you will need to change is the IAM role. Select ohwhacks3fullaccess from the Drop Down List. IAM roles allow AWS resources to communicate with one another without the use of access keys. Click Next: Add Storage\n",
    "\n",
    "**Step 4: Add Storage**\n",
    "\n",
    "Change the Size to 25GiB. Click Next: Add Tags\n",
    "\n",
    "**Step 5: Add Tags**\n",
    "\n",
    "Key - Name, Value - ohwamanda-tan Key - Owner, Value - ohwamanda-tan\n",
    "\n",
    "Please append to your IAM username for all AWS resources you provision. This helps us keep track of the resources.\n",
    "\n",
    "**Step 6: Configure Security Group\n",
    "\n",
    "Select the Select an existing security group button Check the oceanhackweek-SG button and click Review and Launch\n",
    "\n",
    "**Step 7: Review Instance Launch**\n",
    "\n",
    "Click Launch\n",
    "\n",
    "The Select an existing key pair or Create a new key pair window will pop up.\n",
    "\n",
    "From the drop down menu, select Create a new key pair. The key pair name will be ohwIAMusername\n",
    "\n",
    "Make sure to Download Key Pair. Note where the Key Pair is saved (for Mac/Linux, it is usually automatically saved to your Downloads folder).\n",
    "\n",
    "If you want to use the hub for the next few steps, upload the key file into the hub using the upload button.\n",
    "\n",
    "Once you have saved the Key Pair (e.g. ohwamanda-tan.pem), click Launch Instances.\n",
    "\n",
    "You will see the Launch Status screen. Click on ID number associated with your instance.\n",
    "\n",
    "You will be taken to the EC2 dashboard. Look for the IPv4 Public IP. You will need this IP to ssh into your instance.\n",
    "\n",
    "\n",
    "  "
   ]
  },
  {
   "cell_type": "markdown",
   "metadata": {
    "slideshow": {
     "slide_type": "-"
    }
   },
   "source": [
    "### Logging in to the AWS Console & Creating an EC2 instance\n",
    "\n",
    "Storage on the cloud: S3\n",
    "In S3, we can create “buckets” with data. These are like folders on a computer, except they’re not really on any computer that we can access, so we’ll have to download them onto some other computers to do any computations with the data.\n",
    "\n",
    "One of the main things to remember about S3 is that storing data on S3 is not very expensive ($0.024/GB/month) but you can end up paying quite a bit if you move the data out of the AWS data-center in which your data is stored. One way to avoid that is to do all your compute in that data-center. That is, bring your compute to where the data is.\n",
    "\n",
    "That means that you will want to keep an eye on the “region” in which the data is stored (in our case Ohio) and only download the data to machines that are in that region.\n",
    "\n",
    "  "
   ]
  },
  {
   "cell_type": "markdown",
   "metadata": {
    "slideshow": {
     "slide_type": "-"
    }
   },
   "source": [
    "### Freeze-dry and rehydrate \n",
    "\n",
    "1. You have already identified an adequate-to-your-needs computing environment like XSEDE Sometimes it just doesn’t make sense. In some cases, you already have the access to the resources you need.\n",
    "\n",
    "2. You don’t have time to learn how to work on the public cloud There is stuff to learn. That’s what we’re here for! But there will be more to learn after this session is over. If you prefer to learn other things, you might not want to invest your time in learning about the cloud.\n",
    "\n",
    "3. You operate your computer(s) at a very high duty cycle (more cost-effective) If your computer is constantly computing something, the cloud might end up costing you more.\n",
    "\n",
    "4. There is too much administrative drag preventing you from using the cloud That’s a thing. Especially when working with human subject data that is encumbered through regulation (such as HIPAA).\n",
    "\n",
    "\n",
    "  "
   ]
  },
  {
   "cell_type": "code",
   "execution_count": null,
   "metadata": {
    "slideshow": {
     "slide_type": "slide"
    }
   },
   "outputs": [],
   "source": [
    "### "
   ]
  },
  {
   "cell_type": "code",
   "execution_count": null,
   "metadata": {
    "slideshow": {
     "slide_type": "slide"
    }
   },
   "outputs": [],
   "source": []
  },
  {
   "cell_type": "code",
   "execution_count": null,
   "metadata": {},
   "outputs": [],
   "source": []
  }
 ],
 "metadata": {
  "celltoolbar": "Slideshow",
  "kernelspec": {
   "display_name": "Python [default]",
   "language": "python",
   "name": "python3"
  },
  "language_info": {
   "codemirror_mode": {
    "name": "ipython",
    "version": 3
   },
   "file_extension": ".py",
   "mimetype": "text/x-python",
   "name": "python",
   "nbconvert_exporter": "python",
   "pygments_lexer": "ipython3",
   "version": "3.6.6"
  },
  "livereveal": {
   "auto_select": "none",
   "autolaunch": "true",
   "footer": " ",
   "header": "<script src='/files/static/theme/reveal.js'></script>",
   "start_slideshow_at": "selected"
  }
 },
 "nbformat": 4,
 "nbformat_minor": 2
}
