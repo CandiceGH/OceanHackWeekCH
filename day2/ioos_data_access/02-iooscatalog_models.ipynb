{
 "cells": [
  {
   "cell_type": "markdown",
   "metadata": {},
   "source": [
    "# IOOS Access 02: Accessing model output via the IOOS Catalog OGC CSW endpoint\n",
    "[Emilio Mayorga](https://github.com/emiliom), University of Washington & [NANOOS](http://www.nanoos.org/). 2018-8-21."
   ]
  },
  {
   "cell_type": "markdown",
   "metadata": {},
   "source": [
    "See IOOS Access Notebook 1 for background and discussion on the IOOS Catalog, its OGC CSW web service endpoint, service types, etc. This notebook follows a similar logic and sequence, but focuses instead on model forecast results rather than observations. And on the **OOI Pioneer Array** rather than the Endurance Array.\n",
    "\n",
    "Adapted from Filipe Fernandes' (@ocefpaf) notebook, http://nbviewer.jupyter.org/gist/ocefpaf/36ab048b94859e8bf9a070db95fed174"
   ]
  },
  {
   "cell_type": "markdown",
   "metadata": {},
   "source": [
    "## Preamble"
   ]
  },
  {
   "cell_type": "code",
   "execution_count": 1,
   "metadata": {},
   "outputs": [
    {
     "name": "stderr",
     "output_type": "stream",
     "text": [
      "/home/mayorga/miniconda/envs/ioosaccess/lib/python3.6/importlib/_bootstrap.py:219: RuntimeWarning: numpy.dtype size changed, may indicate binary incompatibility. Expected 96, got 88\n",
      "  return f(*args, **kwds)\n"
     ]
    }
   ],
   "source": [
    "%matplotlib inline\n",
    "\n",
    "import numpy as np\n",
    "import pandas as pd\n",
    "import geopandas as gpd\n",
    "\n",
    "import matplotlib as mpl\n",
    "import matplotlib.pyplot as plt\n",
    "import folium"
   ]
  },
  {
   "cell_type": "markdown",
   "metadata": {},
   "source": [
    "## 1. Define the Pioneer Array bounding box and convert to a GeoPandas GeoSeries\n",
    "http://oceanobservatories.org/array/coastal-pioneer/"
   ]
  },
  {
   "cell_type": "code",
   "execution_count": 2,
   "metadata": {},
   "outputs": [],
   "source": [
    "import shapely.geometry as shpgeom\n",
    "\n",
    "min_lon, max_lon = -72, -69\n",
    "min_lat, max_lat = 38.5, 41\n",
    "\n",
    "pioneer_bbox_shp = shpgeom.box(min_lon, min_lat, max_lon, max_lat)\n",
    "pioneer_bbox_gs = gpd.GeoSeries(pioneer_bbox_shp)"
   ]
  },
  {
   "cell_type": "markdown",
   "metadata": {},
   "source": [
    "## 2. Create the catalog query filters and issue the OGC CSW query to the IOOS Catalog web service"
   ]
  },
  {
   "cell_type": "code",
   "execution_count": 3,
   "metadata": {},
   "outputs": [],
   "source": [
    "from owslib import fes"
   ]
  },
  {
   "cell_type": "code",
   "execution_count": 4,
   "metadata": {},
   "outputs": [],
   "source": [
    "bbox = [min_lon, min_lat, max_lon, max_lat]\n",
    "crs = 'urn:ogc:def:crs:OGC:1.3:CRS84'\n",
    "\n",
    "bbox_crs = fes.BBox(bbox, crs=crs)"
   ]
  },
  {
   "cell_type": "code",
   "execution_count": 5,
   "metadata": {},
   "outputs": [
    {
     "name": "stderr",
     "output_type": "stream",
     "text": [
      "/home/mayorga/miniconda/envs/ioosaccess/lib/python3.6/importlib/_bootstrap.py:219: RuntimeWarning: numpy.dtype size changed, may indicate binary incompatibility. Expected 96, got 88\n",
      "  return f(*args, **kwds)\n",
      "/home/mayorga/miniconda/envs/ioosaccess/lib/python3.6/importlib/_bootstrap.py:219: RuntimeWarning: numpy.dtype size changed, may indicate binary incompatibility. Expected 96, got 88\n",
      "  return f(*args, **kwds)\n"
     ]
    }
   ],
   "source": [
    "from datetime import datetime, timedelta\n",
    "from ioos_tools.ioos import fes_date_filter\n",
    "\n",
    "dt = 20\n",
    "\n",
    "date = datetime.utcnow()\n",
    "start = date - timedelta(days=dt)\n",
    "stop = date + timedelta(days=dt)\n",
    "\n",
    "begin, end = fes_date_filter(start, stop)"
   ]
  },
  {
   "cell_type": "code",
   "execution_count": 6,
   "metadata": {},
   "outputs": [],
   "source": [
    "cf_names = [\n",
    "    'sea_water_temperature',\n",
    "    'sea_surface_temperature',\n",
    "    'sea_water_potential_temperature',\n",
    "    'equivalent_potential_temperature',\n",
    "    'sea_water_conservative_temperature',\n",
    "    'pseudo_equivalent_potential_temperature',\n",
    "]\n",
    "\n",
    "\n",
    "kw = dict(\n",
    "    wildCard='*',\n",
    "    escapeChar='\\\\',\n",
    "    singleChar='?',\n",
    "    propertyname='apiso:AnyText'\n",
    ")\n",
    "\n",
    "or_filt = fes.Or(\n",
    "    [fes.PropertyIsLike(literal=('*%s*' % val), **kw)\n",
    "        for val in cf_names])"
   ]
  },
  {
   "cell_type": "code",
   "execution_count": 7,
   "metadata": {},
   "outputs": [],
   "source": [
    "filter_list = [\n",
    "    fes.And(\n",
    "        [\n",
    "            bbox_crs,\n",
    "            begin, end,\n",
    "            or_filt,\n",
    "            fes.PropertyIsLike(literal=('*%s*' % 'forecast'), **kw),  # Rough mechanism to return model forecast results only\n",
    "            fes.Not([fes.PropertyIsLike(literal='*cdip*', **kw)]),\n",
    "            fes.Not([fes.PropertyIsLike(literal='*grib*', **kw)]),\n",
    "        ]\n",
    "    )\n",
    "]"
   ]
  },
  {
   "cell_type": "code",
   "execution_count": 8,
   "metadata": {},
   "outputs": [
    {
     "name": "stdout",
     "output_type": "stream",
     "text": [
      "Found 5 records.\n",
      "\n"
     ]
    }
   ],
   "source": [
    "from owslib.csw import CatalogueServiceWeb\n",
    "from ioos_tools.ioos import get_csw_records\n",
    "\n",
    "endpoint = 'https://data.ioos.us/csw'\n",
    "\n",
    "csw = CatalogueServiceWeb(endpoint, timeout=60)\n",
    "\n",
    "get_csw_records(\n",
    "    csw,\n",
    "    filter_list,\n",
    "    pagesize=10,\n",
    "    maxrecords=1000\n",
    ")\n",
    "\n",
    "records = '\\n'.join(csw.records.keys())\n",
    "print('Found {} records.\\n'.format(len(csw.records.keys())))"
   ]
  },
  {
   "cell_type": "markdown",
   "metadata": {},
   "source": [
    "Display a summary of all the records found."
   ]
  },
  {
   "cell_type": "code",
   "execution_count": 9,
   "metadata": {
    "scrolled": true
   },
   "outputs": [
    {
     "name": "stdout",
     "output_type": "stream",
     "text": [
      "[COAWST Modeling System: USEast: ROMS-WRF-SWAN coupled model (aka CNAPS)]\n",
      "  fmrc/us_east/US_East_Forecast_Model_Run_Collection_best.ncd\n",
      "[Coupled Northwest Atlantic Prediction System (CNAPS)]\n",
      "  edu.ncsu.meas:cnaps\n",
      "[HYbrid Coordinate Ocean Model (HYCOM): Global]\n",
      "  hycom_global\n",
      "[ROMS ESPRESSO Real-Time Operational IS4DVAR Forecast System Version 2 (NEW) 2013-present FMRC Averages]\n",
      "  edu.rutgers.marine:roms/espresso/2013_da/avg/ESPRESSO_Real-Time_v2_Averages_Best\n",
      "[ROMS ESPRESSO Real-Time Operational IS4DVAR Forecast System Version 2 (NEW) 2013-present FMRC History]\n",
      "  edu.rutgers.marine:roms/espresso/2013_da/his/ESPRESSO_Real-Time_v2_History_Best\n"
     ]
    }
   ],
   "source": [
    "for key, value in list(csw.records.items()):\n",
    "    print(u'[{}]\\n  {}'.format(value.title, key))"
   ]
  },
  {
   "cell_type": "markdown",
   "metadata": {},
   "source": [
    "The scheme for selecting model forecasts yielded decent results! (But compare them to results w/o the 'forecast' filter)"
   ]
  },
  {
   "cell_type": "markdown",
   "metadata": {},
   "source": [
    "## 3. Explore the results\n",
    "Examine their web service types, and create spatial domain \"grid\" objects for mapping."
   ]
  },
  {
   "cell_type": "code",
   "execution_count": 10,
   "metadata": {},
   "outputs": [],
   "source": [
    "from geolinks import sniff_link\n",
    "\n",
    "\n",
    "df = []\n",
    "\n",
    "for key, rec in csw.records.items():\n",
    "    df.append(pd.DataFrame(rec.references))\n",
    "\n",
    "df = pd.concat(df, ignore_index=True)\n",
    "df['geolink'] = [sniff_link(url) for url in df['url']]"
   ]
  },
  {
   "cell_type": "markdown",
   "metadata": {},
   "source": [
    "As in Notebook 1, let's compare the web-service-type results from`geolink.sniff_link` and reference `scheme`, this time for the `OPeNDAP` service type that model forecasts are distributed in. Unfortunately, the match up is not good, so we'll need to make some selections (in the next cell) to isolate appropriate service links, relying on the `scheme` links.\n",
    "\n",
    "*Note: The accuracy of `geolink.sniff_link` could be improved by refinements to that community package, plus better implementation of web service labeling in the model forecast servers.*"
   ]
  },
  {
   "cell_type": "code",
   "execution_count": 11,
   "metadata": {},
   "outputs": [
    {
     "data": {
      "text/html": [
       "<div>\n",
       "<style scoped>\n",
       "    .dataframe tbody tr th:only-of-type {\n",
       "        vertical-align: middle;\n",
       "    }\n",
       "\n",
       "    .dataframe tbody tr th {\n",
       "        vertical-align: top;\n",
       "    }\n",
       "\n",
       "    .dataframe thead th {\n",
       "        text-align: right;\n",
       "    }\n",
       "</style>\n",
       "<table border=\"1\" class=\"dataframe\">\n",
       "  <thead>\n",
       "    <tr style=\"text-align: right;\">\n",
       "      <th></th>\n",
       "      <th>scheme</th>\n",
       "      <th>url</th>\n",
       "      <th>geolink</th>\n",
       "    </tr>\n",
       "  </thead>\n",
       "  <tbody>\n",
       "    <tr>\n",
       "      <th>7</th>\n",
       "      <td>OPeNDAP:OPeNDAP</td>\n",
       "      <td>http://thredds.secoora.org/thredds/dodsC/SECOO...</td>\n",
       "      <td>None</td>\n",
       "    </tr>\n",
       "    <tr>\n",
       "      <th>17</th>\n",
       "      <td>OPeNDAP:OPeNDAP</td>\n",
       "      <td>http://oos.soest.hawaii.edu/thredds/dodsC/paci...</td>\n",
       "      <td>None</td>\n",
       "    </tr>\n",
       "    <tr>\n",
       "      <th>23</th>\n",
       "      <td>OPeNDAP:OPeNDAP</td>\n",
       "      <td>http://tds.marine.rutgers.edu/thredds/dodsC/ro...</td>\n",
       "      <td>None</td>\n",
       "    </tr>\n",
       "    <tr>\n",
       "      <th>28</th>\n",
       "      <td>OPeNDAP:OPeNDAP</td>\n",
       "      <td>http://tds.marine.rutgers.edu/thredds/dodsC/ro...</td>\n",
       "      <td>None</td>\n",
       "    </tr>\n",
       "  </tbody>\n",
       "</table>\n",
       "</div>"
      ],
      "text/plain": [
       "             scheme                                                url geolink\n",
       "7   OPeNDAP:OPeNDAP  http://thredds.secoora.org/thredds/dodsC/SECOO...    None\n",
       "17  OPeNDAP:OPeNDAP  http://oos.soest.hawaii.edu/thredds/dodsC/paci...    None\n",
       "23  OPeNDAP:OPeNDAP  http://tds.marine.rutgers.edu/thredds/dodsC/ro...    None\n",
       "28  OPeNDAP:OPeNDAP  http://tds.marine.rutgers.edu/thredds/dodsC/ro...    None"
      ]
     },
     "execution_count": 11,
     "metadata": {},
     "output_type": "execute_result"
    }
   ],
   "source": [
    "df.loc[(df['scheme'] == 'OPeNDAP:OPeNDAP') | (df['geolink'] == 'OPeNDAP:OPeNDAP')]"
   ]
  },
  {
   "cell_type": "code",
   "execution_count": 12,
   "metadata": {},
   "outputs": [],
   "source": [
    "dap_urls = []\n",
    "\n",
    "for i, df_row in df.iterrows():\n",
    "    row = df_row.to_dict()\n",
    "    # Handle the presenece of \"opendap\" in the NOAA NOS-COOPS obs domain\n",
    "    url = row['url']\n",
    "    if row['scheme'] == 'OPeNDAP:OPeNDAP' or 'dodsC' in url:\n",
    "        if not '.html' in url:\n",
    "            dap_urls.append(url)"
   ]
  },
  {
   "cell_type": "code",
   "execution_count": 13,
   "metadata": {},
   "outputs": [
    {
     "data": {
      "text/plain": [
       "9"
      ]
     },
     "execution_count": 13,
     "metadata": {},
     "output_type": "execute_result"
    }
   ],
   "source": [
    "len(dap_urls)"
   ]
  },
  {
   "cell_type": "code",
   "execution_count": 14,
   "metadata": {},
   "outputs": [
    {
     "data": {
      "text/plain": [
       "['http://www.ncdc.noaa.gov/oa/wct/wct-jnlp-beta.php?singlefile=http://omgsrv1.meas.ncsu.edu:8080/thredds/dodsC/fmrc/us_east/US_East_Forecast_Model_Run_Collection_best.ncd',\n",
       " 'http://omgsrv1.meas.ncsu.edu:8080/thredds/dodsC/fmrc/us_east/US_East_Forecast_Model_Run_Collection_best.ncd',\n",
       " 'http://www.ncdc.noaa.gov/oa/wct/wct-jnlp-beta.php?singlefile=http://thredds.secoora.org/thredds/dodsC/SECOORA_NCSU_CNAPS.nc',\n",
       " 'http://thredds.secoora.org/thredds/dodsC/SECOORA_NCSU_CNAPS.nc',\n",
       " 'http://oos.soest.hawaii.edu/thredds/dodsC/pacioos/hycom/global',\n",
       " 'http://www.ncdc.noaa.gov/oa/wct/wct-jnlp-beta.php?singlefile=http://tds.marine.rutgers.edu/thredds/dodsC/roms/espresso/2013_da/avg/ESPRESSO_Real-Time_v2_Averages_Best',\n",
       " 'http://tds.marine.rutgers.edu/thredds/dodsC/roms/espresso/2013_da/avg/ESPRESSO_Real-Time_v2_Averages_Best',\n",
       " 'http://www.ncdc.noaa.gov/oa/wct/wct-jnlp-beta.php?singlefile=http://tds.marine.rutgers.edu/thredds/dodsC/roms/espresso/2013_da/his/ESPRESSO_Real-Time_v2_History_Best',\n",
       " 'http://tds.marine.rutgers.edu/thredds/dodsC/roms/espresso/2013_da/his/ESPRESSO_Real-Time_v2_History_Best']"
      ]
     },
     "execution_count": 14,
     "metadata": {},
     "output_type": "execute_result"
    }
   ],
   "source": [
    "dap_urls"
   ]
  },
  {
   "cell_type": "markdown",
   "metadata": {},
   "source": [
    "Not all these service end points may in fact be proper OPeNDAP end points. And some may not be working at this time. So, the block below will include additional tests.\n",
    "\n",
    "We'll use the `gridgeo` package to create geographical gridded masks and outer polygons for the model domains, for the models that are proper, functioning OPeNDAP end points. These will be stored in the `grids` list."
   ]
  },
  {
   "cell_type": "code",
   "execution_count": 15,
   "metadata": {},
   "outputs": [
    {
     "name": "stdout",
     "output_type": "stream",
     "text": [
      "  - Could not read http://www.ncdc.noaa.gov/oa/wct/wct-jnlp-beta.php?singlefile=http://omgsrv1.meas.ncsu.edu:8080/thredds/dodsC/fmrc/us_east/US_East_Forecast_Model_Run_Collection_best.ncd as OPeNDAP endpoint.\n",
      "http://omgsrv1.meas.ncsu.edu:8080/thredds/dodsC/fmrc/us_east/US_East_Forecast_Model_Run_Collection_best.ncd: COAWST Modeling System: USEast: ROMS-WRF-SWAN coupled model (aka CNAPS)\n",
      "  - Could not read http://www.ncdc.noaa.gov/oa/wct/wct-jnlp-beta.php?singlefile=http://thredds.secoora.org/thredds/dodsC/SECOORA_NCSU_CNAPS.nc as OPeNDAP endpoint.\n",
      "http://thredds.secoora.org/thredds/dodsC/SECOORA_NCSU_CNAPS.nc: Coupled Northwest Atlantic Prediction System (CNAPS)\n",
      "  - Could not get grid for http://oos.soest.hawaii.edu/thredds/dodsC/pacioos/hycom/global\n",
      "  - Could not read http://www.ncdc.noaa.gov/oa/wct/wct-jnlp-beta.php?singlefile=http://tds.marine.rutgers.edu/thredds/dodsC/roms/espresso/2013_da/avg/ESPRESSO_Real-Time_v2_Averages_Best as OPeNDAP endpoint.\n",
      "http://tds.marine.rutgers.edu/thredds/dodsC/roms/espresso/2013_da/avg/ESPRESSO_Real-Time_v2_Averages_Best: ROMS ESPRESSO Real-Time Operational IS4DVAR Forecast System Version 2 (NEW) 2013-present FMRC Averages\n",
      "  - Could not read http://www.ncdc.noaa.gov/oa/wct/wct-jnlp-beta.php?singlefile=http://tds.marine.rutgers.edu/thredds/dodsC/roms/espresso/2013_da/his/ESPRESSO_Real-Time_v2_History_Best as OPeNDAP endpoint.\n",
      "http://tds.marine.rutgers.edu/thredds/dodsC/roms/espresso/2013_da/his/ESPRESSO_Real-Time_v2_History_Best: ROMS ESPRESSO Real-Time Operational IS4DVAR Forecast System Version 2 (NEW) 2013-present FMRC History\n"
     ]
    }
   ],
   "source": [
    "from netCDF4 import Dataset\n",
    "import gridgeo\n",
    "\n",
    "\n",
    "grids = {}\n",
    "for url in dap_urls:\n",
    "    try:\n",
    "        nc = Dataset(url)\n",
    "    except:\n",
    "        print(f'  - Could not read {url} as OPeNDAP endpoint.')\n",
    "        continue\n",
    "\n",
    "    temp = nc.get_variables_by_attributes(standard_name=lambda x: x in cf_names)[0]\n",
    "    standard_name = temp.standard_name\n",
    "\n",
    "    try:\n",
    "        grid = gridgeo.GridGeo(nc, standard_name=standard_name)\n",
    "        title = getattr(nc, 'title', url)\n",
    "        print(f'{url}: {title}')\n",
    "    except Exception:\n",
    "        print(f'  - Could not get grid for {url}')\n",
    "        continue\n",
    "    grids.update({title: grid})"
   ]
  },
  {
   "cell_type": "code",
   "execution_count": 16,
   "metadata": {},
   "outputs": [
    {
     "data": {
      "text/plain": [
       "{'COAWST Modeling System: USEast: ROMS-WRF-SWAN coupled model (aka CNAPS)': <GridGeo: unknown_2d>,\n",
       " 'Coupled Northwest Atlantic Prediction System (CNAPS)': <GridGeo: unknown_2d>,\n",
       " 'ROMS ESPRESSO Real-Time Operational IS4DVAR Forecast System Version 2 (NEW) 2013-present FMRC Averages': <GridGeo: sgrid>,\n",
       " 'ROMS ESPRESSO Real-Time Operational IS4DVAR Forecast System Version 2 (NEW) 2013-present FMRC History': <GridGeo: sgrid>}"
      ]
     },
     "execution_count": 16,
     "metadata": {},
     "output_type": "execute_result"
    }
   ],
   "source": [
    "grids"
   ]
  },
  {
   "cell_type": "markdown",
   "metadata": {},
   "source": [
    "## 4. Map the model domains in a Folium map, together with the Pioneer Array bounding box"
   ]
  },
  {
   "cell_type": "code",
   "execution_count": 17,
   "metadata": {},
   "outputs": [],
   "source": [
    "tiles = 'http://services.arcgisonline.com/arcgis/rest/services/Ocean/World_Ocean_Base/MapServer/tile/{z}/{y}/{x}'\n",
    "\n",
    "m = folium.Map(tiles=tiles, attr='ESRI')"
   ]
  },
  {
   "cell_type": "code",
   "execution_count": 18,
   "metadata": {},
   "outputs": [],
   "source": [
    "for title, grid in grids.items():\n",
    "    try:\n",
    "        gj = folium.GeoJson(grid.outline.__geo_interface__, name=title)\n",
    "        folium.Popup(title).add_to(gj)\n",
    "        gj.add_to(m)\n",
    "    except Exception:\n",
    "        print(f'Could not compute grid outline for {title}')"
   ]
  },
  {
   "cell_type": "code",
   "execution_count": 19,
   "metadata": {},
   "outputs": [
    {
     "data": {
      "text/plain": [
       "<folium.features.GeoJson at 0x7fab62e62e80>"
      ]
     },
     "execution_count": 19,
     "metadata": {},
     "output_type": "execute_result"
    }
   ],
   "source": [
    "folium.GeoJson(pioneer_bbox_shp.__geo_interface__,\n",
    "              style_function=lambda feature: {'color': 'red', 'fillOpacity': 0.0}\n",
    "              ).add_to(m)"
   ]
  },
  {
   "cell_type": "code",
   "execution_count": 20,
   "metadata": {},
   "outputs": [
    {
     "data": {
      "text/html": [
       "<div style=\"width:100%;\"><div style=\"position:relative;width:100%;height:0;padding-bottom:60%;\"><iframe src=\"data:text/html;charset=utf-8;base64,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\" style=\"position:absolute;width:100%;height:100%;left:0;top:0;border:none !important;\" allowfullscreen webkitallowfullscreen mozallowfullscreen></iframe></div></div>"
      ],
      "text/plain": [
       "<folium.folium.Map at 0x7fab62e62240>"
      ]
     },
     "execution_count": 20,
     "metadata": {},
     "output_type": "execute_result"
    }
   ],
   "source": [
    "folium.LayerControl().add_to(m)\n",
    "\n",
    "m.fit_bounds(m.get_bounds())\n",
    "\n",
    "m"
   ]
  },
  {
   "cell_type": "markdown",
   "metadata": {},
   "source": [
    "## 5. Use xarray and OPeNDAP to read and visualize data from one endpoint\n",
    "Explore the dataset metadata and create a simple plot."
   ]
  },
  {
   "cell_type": "code",
   "execution_count": 21,
   "metadata": {},
   "outputs": [],
   "source": [
    "import xarray as xr"
   ]
  },
  {
   "cell_type": "code",
   "execution_count": 22,
   "metadata": {},
   "outputs": [
    {
     "data": {
      "text/plain": [
       "['http://www.ncdc.noaa.gov/oa/wct/wct-jnlp-beta.php?singlefile=http://omgsrv1.meas.ncsu.edu:8080/thredds/dodsC/fmrc/us_east/US_East_Forecast_Model_Run_Collection_best.ncd',\n",
       " 'http://omgsrv1.meas.ncsu.edu:8080/thredds/dodsC/fmrc/us_east/US_East_Forecast_Model_Run_Collection_best.ncd',\n",
       " 'http://www.ncdc.noaa.gov/oa/wct/wct-jnlp-beta.php?singlefile=http://thredds.secoora.org/thredds/dodsC/SECOORA_NCSU_CNAPS.nc',\n",
       " 'http://thredds.secoora.org/thredds/dodsC/SECOORA_NCSU_CNAPS.nc',\n",
       " 'http://oos.soest.hawaii.edu/thredds/dodsC/pacioos/hycom/global',\n",
       " 'http://www.ncdc.noaa.gov/oa/wct/wct-jnlp-beta.php?singlefile=http://tds.marine.rutgers.edu/thredds/dodsC/roms/espresso/2013_da/avg/ESPRESSO_Real-Time_v2_Averages_Best',\n",
       " 'http://tds.marine.rutgers.edu/thredds/dodsC/roms/espresso/2013_da/avg/ESPRESSO_Real-Time_v2_Averages_Best',\n",
       " 'http://www.ncdc.noaa.gov/oa/wct/wct-jnlp-beta.php?singlefile=http://tds.marine.rutgers.edu/thredds/dodsC/roms/espresso/2013_da/his/ESPRESSO_Real-Time_v2_History_Best',\n",
       " 'http://tds.marine.rutgers.edu/thredds/dodsC/roms/espresso/2013_da/his/ESPRESSO_Real-Time_v2_History_Best']"
      ]
     },
     "execution_count": 22,
     "metadata": {},
     "output_type": "execute_result"
    }
   ],
   "source": [
    "dap_urls"
   ]
  },
  {
   "cell_type": "code",
   "execution_count": 23,
   "metadata": {},
   "outputs": [
    {
     "data": {
      "text/plain": [
       "{'COAWST Modeling System: USEast: ROMS-WRF-SWAN coupled model (aka CNAPS)': <GridGeo: unknown_2d>,\n",
       " 'Coupled Northwest Atlantic Prediction System (CNAPS)': <GridGeo: unknown_2d>,\n",
       " 'ROMS ESPRESSO Real-Time Operational IS4DVAR Forecast System Version 2 (NEW) 2013-present FMRC Averages': <GridGeo: sgrid>,\n",
       " 'ROMS ESPRESSO Real-Time Operational IS4DVAR Forecast System Version 2 (NEW) 2013-present FMRC History': <GridGeo: sgrid>}"
      ]
     },
     "execution_count": 23,
     "metadata": {},
     "output_type": "execute_result"
    }
   ],
   "source": [
    "grids"
   ]
  },
  {
   "cell_type": "markdown",
   "metadata": {},
   "source": [
    "Let's pick the last service end point from `dap_urls` (that's one of the service endpoints that were validated and processed into `grids`). We'll explore the structure and metadata of the model output."
   ]
  },
  {
   "cell_type": "code",
   "execution_count": 24,
   "metadata": {},
   "outputs": [],
   "source": [
    "ds = xr.open_dataset(dap_urls[-1])"
   ]
  },
  {
   "cell_type": "code",
   "execution_count": 25,
   "metadata": {},
   "outputs": [
    {
     "data": {
      "text/plain": [
       "<xarray.Dataset>\n",
       "Dimensions:         (boundary: 4, eta_psi: 81, eta_rho: 82, eta_u: 82, eta_v: 81, ocean_time: 24, s_rho: 36, s_w: 37, time: 46140, tracer: 2, xi_psi: 129, xi_rho: 130, xi_u: 129, xi_v: 130)\n",
       "Coordinates:\n",
       "  * s_rho           (s_rho) float64 -0.9861 -0.9583 -0.9306 -0.9028 -0.875 ...\n",
       "  * s_w             (s_w) float64 -1.0 -0.9722 -0.9444 -0.9167 -0.8889 ...\n",
       "    lon_rho         (eta_rho, xi_rho) float64 ...\n",
       "    lat_rho         (eta_rho, xi_rho) float64 ...\n",
       "    lon_u           (eta_u, xi_u) float64 ...\n",
       "    lat_u           (eta_u, xi_u) float64 ...\n",
       "    lon_v           (eta_v, xi_v) float64 ...\n",
       "    lat_v           (eta_v, xi_v) float64 ...\n",
       "    lon_psi         (eta_psi, xi_psi) float64 ...\n",
       "    lat_psi         (eta_psi, xi_psi) float64 ...\n",
       "  * ocean_time      (ocean_time) datetime64[ns] 2018-06-04T01:00:00 ...\n",
       "  * time            (time) datetime64[ns] 2013-05-19T01:00:00 ...\n",
       "    time_run        (time) datetime64[ns] ...\n",
       "Dimensions without coordinates: boundary, eta_psi, eta_rho, eta_u, eta_v, tracer, xi_psi, xi_rho, xi_u, xi_v\n",
       "Data variables:\n",
       "    ntimes          int32 ...\n",
       "    ndtfast         int32 ...\n",
       "    dt              float64 ...\n",
       "    dtfast          float64 ...\n",
       "    dstart          datetime64[ns] ...\n",
       "    shuffle         int32 ...\n",
       "    deflate         int32 ...\n",
       "    deflate_level   int32 ...\n",
       "    nHIS            int32 ...\n",
       "    ndefHIS         int32 ...\n",
       "    nRST            int32 ...\n",
       "    ntsAVG          int32 ...\n",
       "    nAVG            int32 ...\n",
       "    ndefAVG         int32 ...\n",
       "    Falpha          float64 ...\n",
       "    Fbeta           float64 ...\n",
       "    Fgamma          float64 ...\n",
       "    nl_tnu2         (tracer) float64 ...\n",
       "    nl_visc2        float64 ...\n",
       "    Akt_bak         (tracer) float64 ...\n",
       "    Akv_bak         float64 ...\n",
       "    Akk_bak         float64 ...\n",
       "    Akp_bak         float64 ...\n",
       "    rdrg            float64 ...\n",
       "    rdrg2           float64 ...\n",
       "    Zob             float64 ...\n",
       "    Zos             float64 ...\n",
       "    gls_p           float64 ...\n",
       "    gls_m           float64 ...\n",
       "    gls_n           float64 ...\n",
       "    gls_cmu0        float64 ...\n",
       "    gls_c1          float64 ...\n",
       "    gls_c2          float64 ...\n",
       "    gls_c3m         float64 ...\n",
       "    gls_c3p         float64 ...\n",
       "    gls_sigk        float64 ...\n",
       "    gls_sigp        float64 ...\n",
       "    gls_Kmin        float64 ...\n",
       "    gls_Pmin        float64 ...\n",
       "    Charnok_alpha   float64 ...\n",
       "    Zos_hsig_alpha  float64 ...\n",
       "    sz_alpha        float64 ...\n",
       "    CrgBan_cw       float64 ...\n",
       "    Znudg           float64 ...\n",
       "    M2nudg          float64 ...\n",
       "    M3nudg          float64 ...\n",
       "    Tnudg           (tracer) float64 ...\n",
       "    FSobc_in        (boundary) float64 ...\n",
       "    FSobc_out       (boundary) float64 ...\n",
       "    M2obc_in        (boundary) float64 ...\n",
       "    M2obc_out       (boundary) float64 ...\n",
       "    Tobc_in         (boundary, tracer) float64 ...\n",
       "    Tobc_out        (boundary, tracer) float64 ...\n",
       "    M3obc_in        (boundary) float64 ...\n",
       "    M3obc_out       (boundary) float64 ...\n",
       "    rho0            float64 ...\n",
       "    gamma2          float64 ...\n",
       "    LtracerSrc      (tracer) int32 ...\n",
       "    spherical       int32 ...\n",
       "    xl              float64 ...\n",
       "    el              float64 ...\n",
       "    Vtransform      int32 ...\n",
       "    Vstretching     int32 ...\n",
       "    theta_s         float64 ...\n",
       "    theta_b         float64 ...\n",
       "    Tcline          float64 ...\n",
       "    hc              float64 ...\n",
       "    Cs_r            (s_rho) float64 ...\n",
       "    Cs_w            (s_w) float64 ...\n",
       "    h               (eta_rho, xi_rho) float64 ...\n",
       "    f               (eta_rho, xi_rho) float64 ...\n",
       "    pm              (eta_rho, xi_rho) float64 ...\n",
       "    pn              (eta_rho, xi_rho) float64 ...\n",
       "    angle           (eta_rho, xi_rho) float64 ...\n",
       "    mask_rho        (eta_rho, xi_rho) float64 ...\n",
       "    mask_u          (eta_u, xi_u) float64 ...\n",
       "    mask_v          (eta_v, xi_v) float64 ...\n",
       "    mask_psi        (eta_psi, xi_psi) float64 ...\n",
       "    zeta            (time, eta_rho, xi_rho) float32 ...\n",
       "    ubar            (time, eta_u, xi_u) float32 ...\n",
       "    DU_avg1         (time, eta_u, xi_u) float32 ...\n",
       "    DU_avg2         (time, eta_u, xi_u) float32 ...\n",
       "    vbar            (time, eta_v, xi_v) float32 ...\n",
       "    DV_avg1         (time, eta_v, xi_v) float32 ...\n",
       "    DV_avg2         (time, eta_v, xi_v) float32 ...\n",
       "    u               (time, s_rho, eta_u, xi_u) float32 ...\n",
       "    v               (time, s_rho, eta_v, xi_v) float32 ...\n",
       "    w               (time, s_w, eta_rho, xi_rho) float32 ...\n",
       "    temp            (time, s_rho, eta_rho, xi_rho) float32 ...\n",
       "    salt            (time, s_rho, eta_rho, xi_rho) float32 ...\n",
       "    shflux          (time, eta_rho, xi_rho) float32 ...\n",
       "    sustr           (time, eta_u, xi_u) float32 ...\n",
       "    svstr           (time, eta_v, xi_v) float32 ...\n",
       "    bustr           (time, eta_u, xi_u) float32 ...\n",
       "    bvstr           (time, eta_v, xi_v) float32 ...\n",
       "    grid            int32 ...\n",
       "    time_offset     (time) datetime64[ns] ...\n",
       "Attributes:\n",
       "    file:                            espresso_his_4535_0003.nc\n",
       "    format:                          netCDF-4/HDF5 file\n",
       "    Conventions:                     CF-1.4, SGRID-0.3\n",
       "    type:                            ROMS/TOMS history file\n",
       "    title:                           ROMS ESPRESSO Real-Time Operational IS4D...\n",
       "    rst_file:                        espresso_rst_4535.nc\n",
       "    his_base:                        espresso_his_4535\n",
       "    avg_base:                        espresso_avg_4535\n",
       "    flt_file:                        espresso_flt_4535.nc\n",
       "    grd_file:                        /home/om/roms/espresso/Data/espresso_gri...\n",
       "    ini_file:                        /home/julia/ROMS/espresso/RealTime/Stora...\n",
       "    frc_file_01:                     /home/om/roms/espresso/Data/espresso_tid...\n",
       "    frc_file_02:                     ../Data/espresso_river.nc\n",
       "    frc_file_03:                     ../Data/rain_ncepnam_3hourly_MAB_and_GoM.nc\n",
       "    frc_file_04:                     ../Data/swrad_ncepnam_3hourly_MAB_and_Go...\n",
       "    frc_file_05:                     ../Data/Tair_ncepnam_3hourly_MAB_and_GoM.nc\n",
       "    frc_file_06:                     ../Data/Pair_ncepnam_3hourly_MAB_and_GoM.nc\n",
       "    frc_file_07:                     ../Data/Qair_ncepnam_3hourly_MAB_and_GoM.nc\n",
       "    frc_file_08:                     ../Data/lwrad_down_ncepnam_3hourly_MAB_a...\n",
       "    frc_file_09:                     ../Data/Uwind_ncepnam_3hourly_MAB_and_Go...\n",
       "    frc_file_10:                     ../Data/Vwind_ncepnam_3hourly_MAB_and_Go...\n",
       "    bry_file:                        ../Data/espresso_bdry_new.nc\n",
       "    clm_file:                        ../Data/espresso_clm_new.nc\n",
       "    script_file:                     nl_ocean_espresso.in\n",
       "    fpos_file:                       /home/om/cron/glider_floats/data/maracoo...\n",
       "    svn_url:                         https://www.myroms.org/svn/src/trunk\n",
       "    svn_rev:                         exported\n",
       "    code_dir:                        /home/julia/ROMS/espresso/svn1409\n",
       "    header_dir:                      /home/julia/ROMS/espresso/RealTime/Compi...\n",
       "    header_file:                     espresso.h\n",
       "    os:                              Linux\n",
       "    cpu:                             x86_64\n",
       "    compiler_system:                 pgi\n",
       "    compiler_command:                /opt/pgisoft/openmpi/bin/mpif90\n",
       "    compiler_flags:                   -O3 -Mfree\n",
       "    tiling:                          004x002\n",
       "    history:                         ROMS/TOMS, Version 3.5, Tuesday - June 5...\n",
       "    ana_file:                        ROMS/Functionals/ana_btflux.h, /home/jul...\n",
       "    CPP_options:                     MyCPP, ADD_FSOBC, ADD_M2OBC, ANA_BSFLUX,...\n",
       "    _CoordSysBuilder:                ucar.nc2.dataset.conv.CF1Convention\n",
       "    cdm_data_type:                   GRID\n",
       "    featureType:                     GRID\n",
       "    location:                        Proto fmrc:espresso_2013_da_his\n",
       "    summary:                         Operational nowcast/forecast system vers...\n",
       "    DODS_EXTRA.Unlimited_Dimension:  ocean_time\n",
       "    EXTRA_DIMENSION.N:               36"
      ]
     },
     "execution_count": 25,
     "metadata": {},
     "output_type": "execute_result"
    }
   ],
   "source": [
    "ds"
   ]
  },
  {
   "cell_type": "markdown",
   "metadata": {},
   "source": [
    "Let's look at salinity and a couple of its dimension variables (`s_rho` and `time`)."
   ]
  },
  {
   "cell_type": "code",
   "execution_count": 26,
   "metadata": {},
   "outputs": [
    {
     "data": {
      "text/plain": [
       "<xarray.DataArray 'salt' (time: 46140, s_rho: 36, eta_rho: 82, xi_rho: 130)>\n",
       "[17706686400 values with dtype=float32]\n",
       "Coordinates:\n",
       "  * s_rho     (s_rho) float64 -0.9861 -0.9583 -0.9306 -0.9028 -0.875 -0.8472 ...\n",
       "    lon_rho   (eta_rho, xi_rho) float64 ...\n",
       "    lat_rho   (eta_rho, xi_rho) float64 ...\n",
       "  * time      (time) datetime64[ns] 2013-05-19T01:00:00 2013-05-19T02:00:00 ...\n",
       "    time_run  (time) datetime64[ns] ...\n",
       "Dimensions without coordinates: eta_rho, xi_rho\n",
       "Attributes:\n",
       "    long_name:      salinity\n",
       "    time:           ocean_time\n",
       "    field:          salinity, scalar, series\n",
       "    _ChunkSizes:    [  1  36  82 130]\n",
       "    standard_name:  sea_water_salinity"
      ]
     },
     "execution_count": 26,
     "metadata": {},
     "output_type": "execute_result"
    }
   ],
   "source": [
    "ds.salt"
   ]
  },
  {
   "cell_type": "code",
   "execution_count": 27,
   "metadata": {},
   "outputs": [
    {
     "data": {
      "text/plain": [
       "<xarray.DataArray 's_rho' (s_rho: 36)>\n",
       "array([-0.986111, -0.958333, -0.930556, -0.902778, -0.875   , -0.847222,\n",
       "       -0.819444, -0.791667, -0.763889, -0.736111, -0.708333, -0.680556,\n",
       "       -0.652778, -0.625   , -0.597222, -0.569444, -0.541667, -0.513889,\n",
       "       -0.486111, -0.458333, -0.430556, -0.402778, -0.375   , -0.347222,\n",
       "       -0.319444, -0.291667, -0.263889, -0.236111, -0.208333, -0.180556,\n",
       "       -0.152778, -0.125   , -0.097222, -0.069444, -0.041667, -0.013889])\n",
       "Coordinates:\n",
       "  * s_rho    (s_rho) float64 -0.9861 -0.9583 -0.9306 -0.9028 -0.875 -0.8472 ...\n",
       "Attributes:\n",
       "    units:                     \n",
       "    long_name:                 S-coordinate at RHO-points\n",
       "    valid_min:                 -1.0\n",
       "    valid_max:                 0.0\n",
       "    positive:                  up\n",
       "    standard_name:             ocean_s_coordinate_g1\n",
       "    formula_terms:             s: s_rho C: Cs_r eta: zeta depth: h depth_c: hc\n",
       "    field:                     s_rho, scalar\n",
       "    _CoordinateTransformType:  Vertical\n",
       "    _CoordinateAxisType:       GeoZ\n",
       "    _CoordinateZisPositive:    up\n",
       "    _CoordinateAxes:           s_rho"
      ]
     },
     "execution_count": 27,
     "metadata": {},
     "output_type": "execute_result"
    }
   ],
   "source": [
    "ds.s_rho"
   ]
  },
  {
   "cell_type": "code",
   "execution_count": 28,
   "metadata": {},
   "outputs": [
    {
     "data": {
      "text/plain": [
       "<xarray.DataArray 'time_run' (time: 46140)>\n",
       "array(['2013-05-18T00:00:00.000000000', '2013-05-18T00:00:00.000000000',\n",
       "       '2013-05-18T00:00:00.000000000', ..., '2018-08-17T00:00:00.000000000',\n",
       "       '2018-08-17T00:00:00.000000000', '2018-08-17T00:00:00.000000000'],\n",
       "      dtype='datetime64[ns]')\n",
       "Coordinates:\n",
       "  * time      (time) datetime64[ns] 2013-05-19T01:00:00 2013-05-19T02:00:00 ...\n",
       "    time_run  (time) datetime64[ns] 2013-05-18 2013-05-18 2013-05-18 ...\n",
       "Attributes:\n",
       "    long_name:            run times for coordinate = time\n",
       "    standard_name:        forecast_reference_time\n",
       "    _CoordinateAxisType:  RunTime"
      ]
     },
     "execution_count": 28,
     "metadata": {},
     "output_type": "execute_result"
    }
   ],
   "source": [
    "# Not a dimension variable, but still important\n",
    "ds.time_run"
   ]
  },
  {
   "cell_type": "code",
   "execution_count": 29,
   "metadata": {},
   "outputs": [
    {
     "data": {
      "text/plain": [
       "(<xarray.DataArray 'time' ()>\n",
       " array('2013-05-19T01:00:00.000000000', dtype='datetime64[ns]'),\n",
       " <xarray.DataArray 'time' ()>\n",
       " array('2018-08-23T12:00:00.000000000', dtype='datetime64[ns]'))"
      ]
     },
     "execution_count": 29,
     "metadata": {},
     "output_type": "execute_result"
    }
   ],
   "source": [
    "ds.time.min(), ds.time.max()"
   ]
  },
  {
   "cell_type": "code",
   "execution_count": 30,
   "metadata": {},
   "outputs": [],
   "source": [
    "x = ds.salt.isel(time=-1, s_rho=-1)"
   ]
  },
  {
   "cell_type": "code",
   "execution_count": 31,
   "metadata": {},
   "outputs": [
    {
     "data": {
      "text/plain": [
       "<matplotlib.collections.QuadMesh at 0x7fab5a57dba8>"
      ]
     },
     "execution_count": 31,
     "metadata": {},
     "output_type": "execute_result"
    },
    {
     "data": {
      "image/png": "[encoded data removed]",
      "text/plain": [
       "<Figure size 720x720 with 2 Axes>"
      ]
     },
     "metadata": {},
     "output_type": "display_data"
    }
   ],
   "source": [
    "# There may be a no-data flag that's not properly set. The color map is not optimal, for that reason\n",
    "# If I only knew more about ROMS model output!\n",
    "x.plot(figsize=(10,10))"
   ]
  },
  {
   "cell_type": "code",
   "execution_count": null,
   "metadata": {},
   "outputs": [],
   "source": []
  }
 ],
 "metadata": {
  "_draft": {
   "nbviewer_url": "https://gist.github.com/45efe49edf6ff6f653ee9a41481ee665"
  },
  "gist": {
   "data": {
    "description": "IOOS_data_demo.ipynb",
    "public": true
   },
   "id": "45efe49edf6ff6f653ee9a41481ee665"
  },
  "kernelspec": {
   "display_name": "Python [conda env:ioosaccess]",
   "language": "python",
   "name": "conda-env-ioosaccess-py"
  },
  "language_info": {
   "codemirror_mode": {
    "name": "ipython",
    "version": 3
   },
   "file_extension": ".py",
   "mimetype": "text/x-python",
   "name": "python",
   "nbconvert_exporter": "python",
   "pygments_lexer": "ipython3",
   "version": "3.6.6"
  }
 },
 "nbformat": 4,
 "nbformat_minor": 2
}
